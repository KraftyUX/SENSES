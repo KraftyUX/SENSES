{
 "cells": [
  {
   "cell_type": "markdown",
   "metadata": {},
   "source": [
    "# SENSES Demo\n",
    "This notebook demonstrates computing SENSES scores from sample inputs."
   ]
  },
  {
   "cell_type": "code",
   "execution_count": null,
   "metadata": {},
   "outputs": [],
   "source": [
    "from senses import compute_senses\n",
    "\n",
    "data = {\n",
    "    'coherence_ratings': [0.8, 0.9, 0.7],\n",
    "    'structural_feedback': [0.85, 0.75, 0.9],\n",
    "    'novelty_indicators': [1.2, 0.5, -0.3],\n",
    "    'application_successes': [True, True, False],\n",
    "    'likability_scores': [4.5, 5.0, 3.8]\n",
    "}\n",
    "\n",
    "metadata_json, composite = compute_senses(data)\n",
    "print(metadata_json)\n",
    "print(composite)"
   ]
  }
 ],
 "metadata": {
  "kernelspec": {
   "display_name": "Python 3",
   "language": "python",
   "name": "python3"
  },
  "language_info": {
   "name": "python",
   "version": "3"
  }
 },
 "nbformat": 4,
 "nbformat_minor": 5
}
